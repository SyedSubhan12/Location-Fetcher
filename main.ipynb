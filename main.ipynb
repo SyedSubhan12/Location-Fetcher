{
 "cells": [
  {
   "cell_type": "code",
   "execution_count": 1,
   "metadata": {},
   "outputs": [
    {
     "name": "stdout",
     "output_type": "stream",
     "text": [
      "Location: Karachi, PK\n",
      "Latitude: 24.8608, Longitude: 67.0104\n",
      "Map saved as 'geolocation_map.html'\n"
     ]
    }
   ],
   "source": [
    "import requests\n",
    "import folium\n",
    "\n",
    "# Step 1: Get the IP address information\n",
    "def get_geolocation():\n",
    "    try:\n",
    "        response = requests.get('http://ipinfo.io/json')\n",
    "        data = response.json()\n",
    "        return data\n",
    "    except Exception as e:\n",
    "        print(f\"Error: {e}\")\n",
    "        return None\n",
    "\n",
    "# Step 2: Fetch the geolocation and parse it\n",
    "def fetch_location():\n",
    "    location_data = get_geolocation()\n",
    "    if location_data:\n",
    "        loc = location_data['loc'].split(',')\n",
    "        latitude = float(loc[0])\n",
    "        longitude = float(loc[1])\n",
    "        city = location_data['city']\n",
    "        country = location_data['country']\n",
    "        return latitude, longitude, city, country\n",
    "    else:\n",
    "        return None, None, None, None\n",
    "\n",
    "# Step 3: Display location on a map using folium\n",
    "def display_map(lat, lon, city, country):\n",
    "    # Create a folium map centered at the user's location\n",
    "    map_ = folium.Map(location=[lat, lon], zoom_start=12)\n",
    "    \n",
    "    # Add a marker at the location\n",
    "    folium.Marker([lat, lon], popup=f'{city}, {country}').add_to(map_)\n",
    "    \n",
    "    # Save map as an HTML file and open it in a browser\n",
    "    map_.save(\"geolocation_map.html\")\n",
    "    print(\"Map saved as 'geolocation_map.html'\")\n",
    "\n",
    "# Step 4: Main function to get and display the location\n",
    "if __name__ == \"__main__\":\n",
    "    latitude, longitude, city, country = fetch_location()\n",
    "    \n",
    "    if latitude and longitude:\n",
    "        print(f\"Location: {city}, {country}\")\n",
    "        print(f\"Latitude: {latitude}, Longitude: {longitude}\")\n",
    "        display_map(latitude, longitude, city, country)\n",
    "    else:\n",
    "        print(\"Could not fetch location.\")\n"
   ]
  }
 ],
 "metadata": {
  "kernelspec": {
   "display_name": "Python 3",
   "language": "python",
   "name": "python3"
  },
  "language_info": {
   "codemirror_mode": {
    "name": "ipython",
    "version": 3
   },
   "file_extension": ".py",
   "mimetype": "text/x-python",
   "name": "python",
   "nbconvert_exporter": "python",
   "pygments_lexer": "ipython3",
   "version": "3.12.4"
  }
 },
 "nbformat": 4,
 "nbformat_minor": 2
}
